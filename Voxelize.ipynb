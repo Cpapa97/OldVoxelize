{
 "cells": [
  {
   "cell_type": "code",
   "execution_count": null,
   "metadata": {},
   "outputs": [],
   "source": [
    "import datajoint as dj\n",
    "import numpy as np\n",
    "import time\n",
    "from tqdm import tqdm\n",
    "\n",
    "import matplotlib.pyplot as plt\n",
    "import ipyvolume.pylab as p3\n",
    "\n",
    "from sklearn.cluster import KMeans\n",
    "from sklearn.decomposition import PCA"
   ]
  },
  {
   "cell_type": "code",
   "execution_count": null,
   "metadata": {},
   "outputs": [],
   "source": [
    "ta3p100 = dj.create_virtual_module('ta3p100', 'microns_ta3p100')"
   ]
  },
  {
   "cell_type": "code",
   "execution_count": null,
   "metadata": {},
   "outputs": [],
   "source": [
    "fetched_mesh = ta3p100.Decimation35.fetch(limit=1, as_dict=True)[0]"
   ]
  },
  {
   "cell_type": "markdown",
   "metadata": {},
   "source": [
    "# Skeleton"
   ]
  },
  {
   "cell_type": "code",
   "execution_count": null,
   "metadata": {},
   "outputs": [],
   "source": [
    "# Once I make several, small voxels it would be quite easy to turn that into a skeleton structure by just connecting voxels\n",
    "# that are next to each other.\n",
    "\n",
    "# I could use the centroids of the voxels as bone points, and also downsample the bone structure by checking to see how far\n",
    "# a bone vector strays from the centroids of adjacent voxels, or rather the downstream voxels from a starting voxel.\n",
    "\n",
    "# If I can scan across the whole mesh and start building regression lines... and correcting and branching off... hmm that might be possible.\n",
    "# Basically I would start a bone at a vertex, and continue that bone as I scan through the mesh across one axis. If I find a vertex far enough\n",
    "# away from my current bone then I either start a new bone OR I branch off from the current bone.\n",
    "# I think that I will basically grant membership of vertices to each bone in order to create the skeleton structure. So I need to keep track\n",
    "# of which vertices are assigned to each bone. Probably using a dict, and from there I can just append vertices to the bone index. This will\n",
    "# also allow me to compare 2 bones (and their vertices) with each other by looking at 2 bone indices in the dict.\n",
    "# I should also make a verification function to see how close the vertices are to their assigned bones.\n",
    "# Depending on how I merge bones, I might get spines also defined as bones, which might be beneficial.\n",
    "# Essentially I'm going through a decision tree:\n",
    "# 1. If I find a vertex on its own, I create a bone.\n",
    "# 2. If I find a vertex near another vertex, I keep the bone growing.\n",
    "# \n",
    "\n",
    "class Skeleton:\n",
    "    _bones = list()\n",
    "    \n",
    "    def __init__(self, vertices, triangles):\n",
    "        self._original_vertices = vertices\n",
    "        self._original_triangles = triangles\n",
    "        \n",
    "        self._vertices = vertices\n",
    "        self._triangles = triangles\n",
    "    \n",
    "    @property\n",
    "    def vertices(self):\n",
    "        return self._vertices\n",
    "    \n",
    "    @property\n",
    "    def triangles(self):\n",
    "        return self._triangles\n",
    "    \n",
    "    @property\n",
    "    def _nonisolated_vertices(self):\n",
    "        unique_vertex_idx = np.unique(self.triangles)\n",
    "        return self.vertices[unique_vertex_idx]\n",
    "    \n",
    "    @property\n",
    "    def _sorted_vertices(self):\n",
    "        \"\"\"\n",
    "        Returns sorted nonisolated vertices.\n",
    "        \"\"\"\n",
    "        verts = self._nonisolated_vertices\n",
    "        sorted_idx = verts.T[2].argsort()\n",
    "        return verts[sorted_idx]\n",
    "    \n",
    "    @property\n",
    "    def bbox(self):\n",
    "        return np.array([(np.min(axis), np.max(axis)) for axis in self.vertices.T]) # Should I use nonisolated vertices though?\n",
    "    \n",
    "    def plot_mesh(self, width=1024, height=1024, **kwargs):\n",
    "        p3.figure(width=width, height=height)\n",
    "        p3.plot_trisurf(*self.vertices.T/1000, self.triangles, **kwargs)\n",
    "        p3.squarelim()\n",
    "        p3.show()\n",
    "    \n",
    "    def plot_verts(self, width=1024, height=1024, targeted_verts=None, **kwargs):\n",
    "        if targeted_verts is None:\n",
    "            verts = self.vertices\n",
    "        else:\n",
    "            verts = targeted_verts\n",
    "        \n",
    "        p3.figure(width=width, height=height)\n",
    "        p3.scatter(*verts.T/1000, **kwargs)\n",
    "        p3.squarelim()\n",
    "        p3.show()\n",
    "        \n",
    "    def thick_plane(self, num_planes=50):\n",
    "        z_space = np.linspace(*self.bbox[2], num=num_planes)\n",
    "\n",
    "        starting_idx = 0\n",
    "        partition_edge_idx = list([starting_idx])\n",
    "        verts = self._sorted_vertices\n",
    "        for j, z_edge in enumerate(z_space[1:-1]):\n",
    "            for i, vert in enumerate(verts.T[2][starting_idx:]):\n",
    "                if vert > z_edge:\n",
    "                    starting_idx += i\n",
    "                    partition_edge_idx.append(starting_idx)\n",
    "                    break\n",
    "        partition_edge_idx.append(-1) #(len(verts) - 1)\n",
    "        \n",
    "        return np.array(partition_edge_idx)\n",
    "    \n",
    "    @property\n",
    "    def bones(self):\n",
    "        return self._bones\n",
    "    \n",
    "    def add_bone(self, starting_point, ending_point):\n",
    "        # The bones should probably be connected in some way? Though a branching bone might not want to be connected.\n",
    "        self._bones.append((starting_point, ending_point))\n",
    "        \n",
    "    def scan(self, axis='x'):        \n",
    "        if axis.lower() == 'x':\n",
    "            axis_idx = 0\n",
    "        elif axis.lower() == 'y':\n",
    "            axis_idx = 1\n",
    "        elif axis.lower() == 'z':\n",
    "            axis_idx = 2\n",
    "        else:\n",
    "            raise ValueError(\"Invalid value for axis, choose between 'x', 'y', and 'z'.\")\n",
    "            \n",
    "        verts = self._sorted_vertices\n",
    "        \n",
    "        bone_membership = dict()\n",
    "        for vert in verts:\n",
    "            "
   ]
  },
  {
   "cell_type": "code",
   "execution_count": null,
   "metadata": {},
   "outputs": [],
   "source": [
    "skel = Skeleton()"
   ]
  },
  {
   "cell_type": "code",
   "execution_count": null,
   "metadata": {},
   "outputs": [],
   "source": []
  },
  {
   "cell_type": "markdown",
   "metadata": {},
   "source": [
    "# Voxel"
   ]
  },
  {
   "cell_type": "code",
   "execution_count": 249,
   "metadata": {},
   "outputs": [
    {
     "data": {
      "text/plain": [
       "'\\n    def thick_plane(self, num_planes=50):\\n        z_space = np.linspace(*self.bbox[2], num=num_planes)\\n\\n        starting_idx = 0\\n        partition_edge_idx = list([starting_idx])\\n        verts = self._sorted_vertices\\n        for j, z_edge in enumerate(z_space[1:-1]):\\n            for i, vert in enumerate(verts.T[2][starting_idx:]):\\n                if vert > z_edge:\\n                    starting_idx += i\\n                    partition_edge_idx.append(starting_idx)\\n                    break\\n        partition_edge_idx.append(-1) #(len(verts) - 1)\\n        \\n        return np.array(partition_edge_idx)\\n'"
      ]
     },
     "execution_count": 249,
     "metadata": {},
     "output_type": "execute_result"
    }
   ],
   "source": [
    "# I can do the full bbox for each plane, then do it across the other planes to reduce the size of the voxels and see what I get.\n",
    "# I can also do it across multiple restrictions pretty damn quickly with the method I created to partition it out.\n",
    "# Yeah this will be a very fast and efficient method without worrying about hyperparameterizing the clustering methods.\n",
    "\n",
    "# Create a 3D grid and scan through each block essentially. Can do it based on planes first, and then further break down the bboxes\n",
    "# generated by those planes.\n",
    "\n",
    "# Yeah I can literally just get the bboxes for several rectangular structures findable by the grid partitioning.\n",
    "\n",
    "# I can turn this into a skeleton by merging touching voxels, or by simple connecting the centroids of voxels by some rule (basically make a tree structure\n",
    "# starting from one centroid).\n",
    "\n",
    "# I can merge voxels by checking to see how much their adjacent faces are overlapping (and I should also ensure they don't get too big, by keeping a threshold\n",
    "# either on the volume/size it can be, or by restricting it by how much empty space I'd be adding in).\n",
    "\n",
    "class Mesh:\n",
    "    def __init__(self, vertices, triangles, ignore_isolated_vertices=True):\n",
    "        self._original_vertices = vertices\n",
    "        self._original_triangles = triangles\n",
    "        \n",
    "        self._vertices = vertices\n",
    "        self._triangles = triangles\n",
    "        self._ignore_isolated = ignore_isolated_vertices\n",
    "        \n",
    "        self._voxels = list()\n",
    "    \n",
    "    class Voxel: # Override some operators to allow direct manipulation to the bbox inside.\n",
    "        \"\"\"\n",
    "        If I really want Voxels that are cubes, I can push the boundaries of the Mesh bounding box to fit what I need (to allow the cubes to fit edge to edge).\n",
    "        \"\"\"\n",
    "        def __init__(self, bbox):\n",
    "            self._bbox = bbox\n",
    "            \n",
    "        @property\n",
    "        def bbox(self):\n",
    "            return self._bbox\n",
    "        \n",
    "        @bbox.setter\n",
    "        def bbox(self, bbox):\n",
    "            if not isinstance(bbox, np.ndarray):\n",
    "                bbox = np.array(bbox)\n",
    "            \n",
    "            if bbox.shape == (3, 2):\n",
    "                self._bbox = bbox\n",
    "            else:\n",
    "                raise ValueError(\"Bounding box is not in required form which is: array-like with shape (3, 2).\")\n",
    "            \n",
    "        @property\n",
    "        def centroid(self):\n",
    "            return self.bbox.T.mean(axis=0)\n",
    "        \n",
    "        def __str__(self):\n",
    "            return str(self.bbox)\n",
    "    \n",
    "    @property\n",
    "    def voxels(self):\n",
    "        return self._voxels\n",
    "    \n",
    "    @voxels.setter\n",
    "    def voxels(self, voxels):\n",
    "        self._voxels = voxels\n",
    "    \n",
    "    @property\n",
    "    def vertices(self): # Could \"potentially\" have the ignore_isolated_vertices_check in here... but it would mess up indices, so put in\n",
    "        # another property entirely.\n",
    "        return self._vertices\n",
    "    \n",
    "    @property\n",
    "    def triangles(self):\n",
    "        return self._triangles\n",
    "    \n",
    "    @property\n",
    "    def _nonisolated_vertices(self):\n",
    "        unique_vertex_idx = np.unique(self.triangles)\n",
    "        return self.vertices[unique_vertex_idx]\n",
    "    \n",
    "    @property\n",
    "    def bbox(self):\n",
    "        return np.array([(np.min(axis), np.max(axis)) for axis in self.vertices.T])\n",
    "    \n",
    "    @staticmethod\n",
    "    def get_bbox(vertices):\n",
    "        return np.array([(np.min(axis), np.max(axis)) for axis in vertices.T])\n",
    "    \n",
    "    def merge_touching_voxels(self):\n",
    "        raise NotImplementedError\n",
    "            \n",
    "        # Someone said that looping over numpy arrays should be avoided... can this be done more efficiently in some way?\n",
    "#         corner_coords = list()\n",
    "#         for x in x_split:\n",
    "#             for y in y_split:\n",
    "#                 for z in z_split:\n",
    "#                     corner_coords.append((x, y, z))\n",
    "#         corner_coords = np.array(corner_coords)\n",
    "    \n",
    "    # Turn these splits into bboxes so I can turn them into Voxels\n",
    "    # I need pairwise bboxes for all of these\n",
    "    # I should hmm. I was going to say to compute the centroids for these \"rectangles\" and then add the radius, but they're rectangles.\n",
    "    # First thing I need is all of the points at which will be the corners for the rectangles.\n",
    "    # Or I can potentially look at the walls formed and check from there.\n",
    "    def grid_split(self, num_splits_each_axis=10):\n",
    "        \"\"\"\n",
    "        :param num_splits_each_axis: 'automated' just means it'll be computed based on the volume of the mesh bbox.\n",
    "        For now it just defaults to 10 per axis (so 1000 initial bboxes).\n",
    "        \"\"\"\n",
    "        x_split, y_split, z_split = [np.linspace(minimum, maximum, num=num_splits_each_axis) for minimum, maximum in self.bbox]\n",
    "                \n",
    "        bboxes = list()\n",
    "        x_pairs = np.array([(x_split[i], x_split[i+1]) for i in range(len(x_split) - 1)])\n",
    "        y_pairs = np.array([(y_split[i], y_split[i+1]) for i in range(len(y_split) - 1)])\n",
    "        z_pairs = np.array([(z_split[i], z_split[i+1]) for i in range(len(z_split) - 1)])\n",
    "        for xs in x_pairs:\n",
    "            for ys in y_pairs:\n",
    "                for zs in z_pairs:\n",
    "                    bboxes.append((xs, ys, zs))\n",
    "        bboxes = np.array(bboxes)\n",
    "        \n",
    "        return bboxes\n",
    "    \n",
    "    def initialize_voxels(self, num_splits_each_axis=10):\n",
    "        bboxes = self.grid_split(num_splits_each_axis=num_splits_each_axis)\n",
    "        self._voxels = [self.Voxel(bbox) for bbox in bboxes]\n",
    "        return self.voxels\n",
    "    \n",
    "    def plot_mesh(self, width=1024, height=1024, **kwargs):\n",
    "        p3.figure(width=width, height=height)\n",
    "        p3.plot_trisurf(*self.vertices.T/1000, self.triangles, **kwargs)\n",
    "        p3.squarelim()\n",
    "        p3.show()\n",
    "        \n",
    "    def plot_voxels(self, width=1024, height=1024):\n",
    "        fig = p3.figure(width=width, heigh=height)\n",
    "        p3.scatter(*np.array([voxel.centroid for voxel in self.voxels]).T/1000, marker='sphere')\n",
    "        p3.squarelim()\n",
    "        p3.show()\n",
    "        \n",
    "#         return fig\n",
    "        \n",
    "    def restrict_bboxes(self, num_splits_each_axis=10):\n",
    "        voxels = self.initialize_voxels(num_splits_each_axis=num_splits_each_axis)\n",
    "        nonisolated_vertices = self._nonisolated_vertices\n",
    "        t_nonisolated_vertices = nonisolated_vertices.T\n",
    "#         x_sorted_idx = t_nonisolated_vertices[0].argsort()\n",
    "#         y_sorted_idx = t_nonisolated_vertices[1].argsort()\n",
    "#         z_sorted_idx = t_nonisolated_vertices[2].argsort()\n",
    "        \n",
    "#         x_verts = nonisolated_vertices[x_sorted_idx]\n",
    "#         y_verts = nonisolated_vertices[y_sorted_idx]\n",
    "#         z_verts = nonisolated_vertices[z_sorted_idx]\n",
    "        \n",
    "        x_axis, y_axis, z_axis = t_nonisolated_vertices\n",
    "        \n",
    "        # I can make this even faster still! Which is extremely necessary as the time complexity of the number of Voxels to make increases.\n",
    "        # Less voxels might still be what I want though.\n",
    "        \n",
    "        masks = list()\n",
    "        not_empty_voxels = list()\n",
    "        for i, voxel in tqdm(enumerate(voxels)):\n",
    "            # Now I need to use each voxel to retrieve the vertices within its bbox, then reduce the voxel's bbox to the bbox of the vertices present within it.\n",
    "            # First retrive the vertices:\n",
    "            (x_min, x_max), (y_min, y_max), (z_min, z_max) = voxel.bbox\n",
    "            x_mask = np.all(((x_axis >= x_min), (x_axis <= x_max)), axis=0)\n",
    "            y_mask = np.all(((y_axis >= y_min), (y_axis <= y_max)), axis=0)\n",
    "            z_mask = np.all(((z_axis >= z_min), (z_axis <= z_max)), axis=0)\n",
    "            mask = np.all((x_mask, y_mask, z_mask), axis=0)\n",
    "            if mask.sum() > 0:\n",
    "                # Next get the bbox of the vertices.\n",
    "                relevant_verts = nonisolated_vertices[mask]\n",
    "                new_bbox = self.get_bbox(relevant_verts)\n",
    "                # Now insert the new bbox into the voxel object.\n",
    "                voxel.bbox = new_bbox\n",
    "                not_empty_voxels.append(i)\n",
    "                \n",
    "        self.voxels = np.array(voxels)[not_empty_voxels]\n",
    "        \n",
    "\"\"\"\n",
    "    def thick_plane(self, num_planes=50):\n",
    "        z_space = np.linspace(*self.bbox[2], num=num_planes)\n",
    "\n",
    "        starting_idx = 0\n",
    "        partition_edge_idx = list([starting_idx])\n",
    "        verts = self._sorted_vertices\n",
    "        for j, z_edge in enumerate(z_space[1:-1]):\n",
    "            for i, vert in enumerate(verts.T[2][starting_idx:]):\n",
    "                if vert > z_edge:\n",
    "                    starting_idx += i\n",
    "                    partition_edge_idx.append(starting_idx)\n",
    "                    break\n",
    "        partition_edge_idx.append(-1) #(len(verts) - 1)\n",
    "        \n",
    "        return np.array(partition_edge_idx)\n",
    "\"\"\"\n",
    "pass"
   ]
  },
  {
   "cell_type": "code",
   "execution_count": 250,
   "metadata": {},
   "outputs": [],
   "source": [
    "mesh = Mesh(fetched_mesh['vertices'], fetched_mesh['triangles'])"
   ]
  },
  {
   "cell_type": "code",
   "execution_count": 256,
   "metadata": {},
   "outputs": [
    {
     "name": "stderr",
     "output_type": "stream",
     "text": [
      "117649it [05:06, 384.37it/s]\n"
     ]
    },
    {
     "data": {
      "text/plain": [
       "306.6842346191406"
      ]
     },
     "execution_count": 256,
     "metadata": {},
     "output_type": "execute_result"
    }
   ],
   "source": [
    "start = time.time()\n",
    "mesh.restrict_bboxes(50)\n",
    "time.time() - start"
   ]
  },
  {
   "cell_type": "code",
   "execution_count": 257,
   "metadata": {},
   "outputs": [
    {
     "data": {
      "application/vnd.jupyter.widget-view+json": {
       "model_id": "d4ffe0c18db04c1891773891c728e7d9",
       "version_major": 2,
       "version_minor": 0
      },
      "text/plain": [
       "VBox(children=(Figure(camera=PerspectiveCamera(fov=46.0, position=(0.0, 0.0, 2.0), quaternion=(0.0, 0.0, 0.0, …"
      ]
     },
     "metadata": {},
     "output_type": "display_data"
    }
   ],
   "source": [
    "mesh.plot_voxels()"
   ]
  },
  {
   "cell_type": "code",
   "execution_count": 258,
   "metadata": {},
   "outputs": [
    {
     "data": {
      "application/vnd.jupyter.widget-view+json": {
       "model_id": "22f42c44af0146709d600f71d92a2e1d",
       "version_major": 2,
       "version_minor": 0
      },
      "text/plain": [
       "VBox(children=(Figure(camera=PerspectiveCamera(fov=46.0, position=(0.0, 0.0, 2.0), quaternion=(0.0, 0.0, 0.0, …"
      ]
     },
     "metadata": {},
     "output_type": "display_data"
    }
   ],
   "source": [
    "mesh.plot_mesh()"
   ]
  },
  {
   "cell_type": "code",
   "execution_count": null,
   "metadata": {},
   "outputs": [],
   "source": []
  },
  {
   "cell_type": "code",
   "execution_count": 246,
   "metadata": {},
   "outputs": [],
   "source": [
    "# What I really want to be able to do, is to shrink the bbox of the Mesh down to fit the (nonisolated) vertices.\n",
    "# From there it should split the resulting complex shape into cubes..\n",
    "\n",
    "# So to start, I need to get bboxes on a chosen plane at each layer (like the whole bbox).\n",
    "# So do that several times for, say, the xy plane at each z block.\n",
    "# Then I can start looking at each \"slice\" and get inner bounding boxes.\n",
    "\n",
    "# Due to the odd shape of some of these neurons and their parts, I might really just want to use rectangular shapes that can be rotated...\n",
    "# but at that point wouldn't it make more sense to create skeletons? If I figure out how to do that it would make my life (and getting\n",
    "# accurate minimum distance measures) much easier. Though it would be difficult to extract the info needed for those skeletons.\n",
    "\n",
    "# I can do the full bbox for each plane, then do it across the other planes to reduce the size of the voxels and see what I get.\n",
    "# I can also do it across multiple restrictions pretty damn quickly with the method I created to partition it out.\n",
    "# Yeah this will be a very fast and efficient method without worrying about hyperparameterizing the clustering methods.\n",
    "\n",
    "# Create a 3D grid and scan through each block essentially. Can do it based on planes first, and then further break down the bboxes\n",
    "# generated by those planes.\n",
    "\n",
    "# Yeah I can literally just get the bboxes for several rectangular structures findable by the grid partitioning.\n",
    "\n",
    "class Mesh:\n",
    "    def __init__(self, vertices, triangles):\n",
    "        self._original_vertices = vertices\n",
    "        self._original_triangles = triangles\n",
    "        \n",
    "        self._vertices = vertices\n",
    "        self._triangles = triangles\n",
    "    \n",
    "    @staticmethod\n",
    "    def get_bbox(vertices):\n",
    "        np.array([(np.min(axis), np.max(axis)) for axis in vertices.T])\n",
    "    \n",
    "    def grid_split(self, num_splits_each_axis=50):\n",
    "        splits = [np.linspace(minimum, maximum, num=num_splits_each_axis) for minimum, maximum in self.bbox]\n",
    "        return splits        \n",
    "        \n",
    "    def merge_small_voxels(self):\n",
    "        pass\n",
    "    \n",
    "    class Voxel:\n",
    "        def __init__(self, centroid, radius):\n",
    "            self._x, self._y, self._z = centroid\n",
    "            self._radius = radius\n",
    "            \n",
    "        @property\n",
    "        def centroid(self):\n",
    "            return np.array((self._x, self._y, self._z))\n",
    "        \n",
    "        @property\n",
    "        def radius(self):\n",
    "            return self._radius\n",
    "        \n",
    "        @radius.setter\n",
    "        def radius(self, radius):\n",
    "            self._radius = radius\n",
    "            \n",
    "        @property\n",
    "        def bbox(self):\n",
    "            # Just add and subtract the radius from the centroid vector\n",
    "            return np.vstack((self.centroid - self.radius, self.centroid + self.radius)).T\n",
    "    \n",
    "    @property\n",
    "    def vertices(self):\n",
    "        return self._vertices\n",
    "    \n",
    "    @property\n",
    "    def triangles(self):\n",
    "        return self._triangles\n",
    "    \n",
    "    @property\n",
    "    def _nonisolated_vertices(self):\n",
    "        unique_vertex_idx = np.unique(self.triangles)\n",
    "        return self.vertices[unique_vertex_idx]\n",
    "    \n",
    "    @property\n",
    "    def _sorted_vertices(self):\n",
    "        \"\"\"\n",
    "        Returns sorted nonisolated vertices. This is best used when only dealing with vertices and not triangles too.\n",
    "        \"\"\"\n",
    "        raise NotImplementedError\n",
    "        \n",
    "        verts = self._nonisolated_vertices\n",
    "        sorted_idx = verts.T[2].argsort()\n",
    "        return verts[sorted_idx]\n",
    "    \n",
    "    @property\n",
    "    def bbox(self):\n",
    "        return np.array([(np.min(axis), np.max(axis)) for axis in self.vertices.T]) # Should I use nonisolated vertices though?\n",
    "    \n",
    "    def plot_mesh(self, width=1024, height=1024, **kwargs):\n",
    "        p3.figure(width=width, height=height)\n",
    "        p3.plot_trisurf(*self.vertices.T/1000, self.triangles, **kwargs)\n",
    "        p3.squarelim()\n",
    "        p3.show()\n",
    "    \n",
    "    def plot_verts(self, width=1024, height=1024, targeted_verts=None, **kwargs):\n",
    "        if targeted_verts is None:\n",
    "            verts = self.vertices\n",
    "        else:\n",
    "            verts = targeted_verts\n",
    "        \n",
    "        p3.figure(width=width, height=height)\n",
    "        p3.scatter(*verts.T/1000, **kwargs)\n",
    "        p3.squarelim()\n",
    "        p3.show()\n",
    "        \n",
    "    def get_adjacent_voxels(self):\n",
    "        \n",
    "        # I just need to look at how the Voxel bboxes touch other Voxel bboxes\n",
    "        \n",
    "        raise NotImplementedError\n",
    "    \n",
    "    # Should I make this a lazy generator?\n",
    "    def partition(self, axis, bbox_view=None, num_partitions=50):\n",
    "        \"\"\"\n",
    "        Splits up the vertices along an axis.\n",
    "        :param axis: The axis along which to partition the vertices.\n",
    "        :param view: BBox view which will be used to look at a specific portion of the mesh. Leave as None to partition the entire mesh.\n",
    "        :param num_partitions: Number of partitions/slices to be returned.\n",
    "        \"\"\"\n",
    "        \n",
    "        if bbox_view is None:\n",
    "            axis_space = np.linspace(self.bbox[axis], num=num_planes)\n",
    "            starting_idx = 0\n",
    "            partition_edge_idx = list([starting_idx])\n",
    "        else:\n",
    "            raise NotImplementedError(\"bbox_view hasn't been implemented yet, bitch\")\n",
    "            axis_space = np.linspace(bbox_view[axis], num=num_planes)\n",
    "            starting_idx = 0 # Would have to figure out if I want to keep indices based on the total _sorted_vertices or...\n",
    "            partition_edge_idx = list([starting_idx])\n",
    "            \n",
    "        nonisolated_verts = self._nonisolated_vertices\n",
    "        sorted_idx = nonisolated_verts.T[axis].argsort()\n",
    "        axis_verts = nonisolated_verts[sorted_idx].T[axis]\n",
    "        \n",
    "        \n",
    "        \n",
    "    def thick_plane(self, num_planes=50):\n",
    "        z_space = np.linspace(*self.bbox[2], num=num_planes)\n",
    "\n",
    "        starting_idx = 0\n",
    "        partition_edge_idx = list([starting_idx])\n",
    "        verts = self._sorted_vertices\n",
    "        for j, z_edge in enumerate(z_space[1:-1]):\n",
    "            for i, vert in enumerate(verts.T[2][starting_idx:]):\n",
    "                if vert > z_edge:\n",
    "                    starting_idx += i\n",
    "                    partition_edge_idx.append(starting_idx)\n",
    "                    break\n",
    "        partition_edge_idx.append(-1) #(len(verts) - 1)\n",
    "        \n",
    "        return np.array(partition_edge_idx)\n",
    "    \n",
    "    # Should still go through with this approach regardless.\n",
    "    # Might either want to look into density or hierarchical clustering methods. But try to do a simple (note: efficient) version.\n",
    "    # Could be accomplished by choosing a voxel center, then expanding outwards until there is a density drought. Then choose another voxel\n",
    "    # center nearby.\n",
    "    # Also the center of these Voxel bboxes should be between the 2 edges being looked at.\n",
    "    def get_bbox_of_plane(self, num_planes=50):\n",
    "        part_idx = self.thick_plane(num_planes)\n",
    "        verts = self._sorted_vertices\n",
    "        \n",
    "        for i in range(len(part_idx) - 1):\n",
    "            start = time.time()\n",
    "            lower_idx, upper_idx = part_idx[i], part_idx[i+1]\n",
    "            targets = verts[lower_idx:upper_idx]\n",
    "            \n",
    "            plt.scatter(*targets.mean(axis=0)[0:2])\n",
    "            \n",
    "#             find_n_clusters = PCA()\n",
    "#             find_n_clusters.fit(targets)\n",
    "#             return find_n_clusters.components_\n",
    "        \n",
    "#             clusterer = KMeans(n_clusters=4)\n",
    "#             clusterer.fit(targets)\n",
    "            \n",
    "#             print(time.time() - start)\n",
    "#             plt.scatter(*targets.T[0:2], c=clusterer.labels_, cmap=\"Set1\")\n",
    "#             plt.hist(verts[lower_idx:upper_idx].T[0], bins=50, color=(i/50, i/100, i/50, 0.9))\n",
    "#             plt.show()\n",
    "#             print(time.time() - start)\n",
    "            \n",
    "#         self.plot_verts(targeted_verts=verts, size=0.1, marker='sphere')\n",
    "        \n",
    "#         plt.hist(verts.T[0])\n",
    "#         plt.show()\n",
    "#         plt.hist(verts.T[1])\n",
    "#         plt.show()\n",
    "#         plt.hist(verts.T[2])\n",
    "#         plt.show()"
   ]
  },
  {
   "cell_type": "code",
   "execution_count": 247,
   "metadata": {},
   "outputs": [],
   "source": [
    "mesh = Mesh(fetched_mesh['vertices'], fetched_mesh['triangles'])"
   ]
  },
  {
   "cell_type": "code",
   "execution_count": 248,
   "metadata": {
    "scrolled": false
   },
   "outputs": [
    {
     "ename": "NotImplementedError",
     "evalue": "",
     "output_type": "error",
     "traceback": [
      "\u001b[0;31m---------------------------------------------------------------------------\u001b[0m",
      "\u001b[0;31mNotImplementedError\u001b[0m                       Traceback (most recent call last)",
      "\u001b[0;32m<ipython-input-248-7ad07e02cfbd>\u001b[0m in \u001b[0;36m<module>\u001b[0;34m\u001b[0m\n\u001b[0;32m----> 1\u001b[0;31m \u001b[0mmesh\u001b[0m\u001b[0;34m.\u001b[0m\u001b[0mget_bbox_of_plane\u001b[0m\u001b[0;34m(\u001b[0m\u001b[0;34m)\u001b[0m\u001b[0;34m\u001b[0m\u001b[0m\n\u001b[0m",
      "\u001b[0;32m<ipython-input-246-5c112dbb40bb>\u001b[0m in \u001b[0;36mget_bbox_of_plane\u001b[0;34m(self, num_planes)\u001b[0m\n\u001b[1;32m    158\u001b[0m     \u001b[0;31m# Also the center of these Voxel bboxes should be between the 2 edges being looked at.\u001b[0m\u001b[0;34m\u001b[0m\u001b[0;34m\u001b[0m\u001b[0m\n\u001b[1;32m    159\u001b[0m     \u001b[0;32mdef\u001b[0m \u001b[0mget_bbox_of_plane\u001b[0m\u001b[0;34m(\u001b[0m\u001b[0mself\u001b[0m\u001b[0;34m,\u001b[0m \u001b[0mnum_planes\u001b[0m\u001b[0;34m=\u001b[0m\u001b[0;36m50\u001b[0m\u001b[0;34m)\u001b[0m\u001b[0;34m:\u001b[0m\u001b[0;34m\u001b[0m\u001b[0m\n\u001b[0;32m--> 160\u001b[0;31m         \u001b[0mpart_idx\u001b[0m \u001b[0;34m=\u001b[0m \u001b[0mself\u001b[0m\u001b[0;34m.\u001b[0m\u001b[0mthick_plane\u001b[0m\u001b[0;34m(\u001b[0m\u001b[0mnum_planes\u001b[0m\u001b[0;34m)\u001b[0m\u001b[0;34m\u001b[0m\u001b[0m\n\u001b[0m\u001b[1;32m    161\u001b[0m         \u001b[0mverts\u001b[0m \u001b[0;34m=\u001b[0m \u001b[0mself\u001b[0m\u001b[0;34m.\u001b[0m\u001b[0m_sorted_vertices\u001b[0m\u001b[0;34m\u001b[0m\u001b[0m\n\u001b[1;32m    162\u001b[0m \u001b[0;34m\u001b[0m\u001b[0m\n",
      "\u001b[0;32m<ipython-input-246-5c112dbb40bb>\u001b[0m in \u001b[0;36mthick_plane\u001b[0;34m(self, num_planes)\u001b[0m\n\u001b[1;32m    141\u001b[0m         \u001b[0mstarting_idx\u001b[0m \u001b[0;34m=\u001b[0m \u001b[0;36m0\u001b[0m\u001b[0;34m\u001b[0m\u001b[0m\n\u001b[1;32m    142\u001b[0m         \u001b[0mpartition_edge_idx\u001b[0m \u001b[0;34m=\u001b[0m \u001b[0mlist\u001b[0m\u001b[0;34m(\u001b[0m\u001b[0;34m[\u001b[0m\u001b[0mstarting_idx\u001b[0m\u001b[0;34m]\u001b[0m\u001b[0;34m)\u001b[0m\u001b[0;34m\u001b[0m\u001b[0m\n\u001b[0;32m--> 143\u001b[0;31m         \u001b[0mverts\u001b[0m \u001b[0;34m=\u001b[0m \u001b[0mself\u001b[0m\u001b[0;34m.\u001b[0m\u001b[0m_sorted_vertices\u001b[0m\u001b[0;34m\u001b[0m\u001b[0m\n\u001b[0m\u001b[1;32m    144\u001b[0m         \u001b[0;32mfor\u001b[0m \u001b[0mj\u001b[0m\u001b[0;34m,\u001b[0m \u001b[0mz_edge\u001b[0m \u001b[0;32min\u001b[0m \u001b[0menumerate\u001b[0m\u001b[0;34m(\u001b[0m\u001b[0mz_space\u001b[0m\u001b[0;34m[\u001b[0m\u001b[0;36m1\u001b[0m\u001b[0;34m:\u001b[0m\u001b[0;34m-\u001b[0m\u001b[0;36m1\u001b[0m\u001b[0;34m]\u001b[0m\u001b[0;34m)\u001b[0m\u001b[0;34m:\u001b[0m\u001b[0;34m\u001b[0m\u001b[0m\n\u001b[1;32m    145\u001b[0m             \u001b[0;32mfor\u001b[0m \u001b[0mi\u001b[0m\u001b[0;34m,\u001b[0m \u001b[0mvert\u001b[0m \u001b[0;32min\u001b[0m \u001b[0menumerate\u001b[0m\u001b[0;34m(\u001b[0m\u001b[0mverts\u001b[0m\u001b[0;34m.\u001b[0m\u001b[0mT\u001b[0m\u001b[0;34m[\u001b[0m\u001b[0;36m2\u001b[0m\u001b[0;34m]\u001b[0m\u001b[0;34m[\u001b[0m\u001b[0mstarting_idx\u001b[0m\u001b[0;34m:\u001b[0m\u001b[0;34m]\u001b[0m\u001b[0;34m)\u001b[0m\u001b[0;34m:\u001b[0m\u001b[0;34m\u001b[0m\u001b[0m\n",
      "\u001b[0;32m<ipython-input-246-5c112dbb40bb>\u001b[0m in \u001b[0;36m_sorted_vertices\u001b[0;34m(self)\u001b[0m\n\u001b[1;32m     78\u001b[0m         \u001b[0mReturns\u001b[0m \u001b[0msorted\u001b[0m \u001b[0mnonisolated\u001b[0m \u001b[0mvertices\u001b[0m\u001b[0;34m.\u001b[0m \u001b[0mThis\u001b[0m \u001b[0;32mis\u001b[0m \u001b[0mbest\u001b[0m \u001b[0mused\u001b[0m \u001b[0mwhen\u001b[0m \u001b[0monly\u001b[0m \u001b[0mdealing\u001b[0m \u001b[0;32mwith\u001b[0m \u001b[0mvertices\u001b[0m \u001b[0;32mand\u001b[0m \u001b[0;32mnot\u001b[0m \u001b[0mtriangles\u001b[0m \u001b[0mtoo\u001b[0m\u001b[0;34m.\u001b[0m\u001b[0;34m\u001b[0m\u001b[0m\n\u001b[1;32m     79\u001b[0m         \"\"\"\n\u001b[0;32m---> 80\u001b[0;31m         \u001b[0;32mraise\u001b[0m \u001b[0mNotImplementedError\u001b[0m\u001b[0;34m\u001b[0m\u001b[0m\n\u001b[0m\u001b[1;32m     81\u001b[0m \u001b[0;34m\u001b[0m\u001b[0m\n\u001b[1;32m     82\u001b[0m         \u001b[0mverts\u001b[0m \u001b[0;34m=\u001b[0m \u001b[0mself\u001b[0m\u001b[0;34m.\u001b[0m\u001b[0m_nonisolated_vertices\u001b[0m\u001b[0;34m\u001b[0m\u001b[0m\n",
      "\u001b[0;31mNotImplementedError\u001b[0m: "
     ]
    }
   ],
   "source": [
    "mesh.get_bbox_of_plane()"
   ]
  },
  {
   "cell_type": "code",
   "execution_count": null,
   "metadata": {},
   "outputs": [],
   "source": []
  },
  {
   "cell_type": "code",
   "execution_count": null,
   "metadata": {},
   "outputs": [],
   "source": []
  },
  {
   "cell_type": "code",
   "execution_count": null,
   "metadata": {
    "scrolled": false
   },
   "outputs": [],
   "source": [
    "mesh.get_bbox_of_plane()"
   ]
  },
  {
   "cell_type": "code",
   "execution_count": null,
   "metadata": {},
   "outputs": [],
   "source": []
  },
  {
   "cell_type": "code",
   "execution_count": null,
   "metadata": {},
   "outputs": [],
   "source": [
    "mesh.plot_ipv()"
   ]
  },
  {
   "cell_type": "code",
   "execution_count": null,
   "metadata": {},
   "outputs": [],
   "source": []
  },
  {
   "cell_type": "code",
   "execution_count": null,
   "metadata": {},
   "outputs": [],
   "source": [
    "part_idx = mesh.thick_plane()"
   ]
  },
  {
   "cell_type": "code",
   "execution_count": null,
   "metadata": {},
   "outputs": [],
   "source": [
    "part_idx"
   ]
  },
  {
   "cell_type": "code",
   "execution_count": null,
   "metadata": {},
   "outputs": [],
   "source": [
    "mesh._sorted_vertices[part_idx[-1]], mesh.bbox[-1][-1]"
   ]
  },
  {
   "cell_type": "code",
   "execution_count": null,
   "metadata": {},
   "outputs": [],
   "source": [
    "mesh._sorted_vertices[-1]"
   ]
  },
  {
   "cell_type": "code",
   "execution_count": null,
   "metadata": {},
   "outputs": [],
   "source": []
  },
  {
   "cell_type": "code",
   "execution_count": null,
   "metadata": {},
   "outputs": [],
   "source": [
    "voxel = mesh.Voxel((1, 3, 5), 10)"
   ]
  },
  {
   "cell_type": "code",
   "execution_count": null,
   "metadata": {},
   "outputs": [],
   "source": [
    "print(voxel.centroid)\n",
    "print(voxel.radius)\n",
    "print(voxel.bbox)"
   ]
  },
  {
   "cell_type": "code",
   "execution_count": null,
   "metadata": {},
   "outputs": [],
   "source": []
  },
  {
   "cell_type": "code",
   "execution_count": null,
   "metadata": {},
   "outputs": [],
   "source": [
    "(ta3p100.AllenSomaClass() & 'cell_class=\"glia\"') - ta3p100.SegmentExclude"
   ]
  },
  {
   "cell_type": "code",
   "execution_count": null,
   "metadata": {},
   "outputs": [],
   "source": [
    "ta3p100.AllenSomaClass()"
   ]
  },
  {
   "cell_type": "code",
   "execution_count": null,
   "metadata": {},
   "outputs": [],
   "source": []
  },
  {
   "cell_type": "code",
   "execution_count": null,
   "metadata": {},
   "outputs": [],
   "source": []
  },
  {
   "cell_type": "code",
   "execution_count": null,
   "metadata": {},
   "outputs": [],
   "source": []
  }
 ],
 "metadata": {
  "kernelspec": {
   "display_name": "Python 3",
   "language": "python",
   "name": "python3"
  },
  "language_info": {
   "codemirror_mode": {
    "name": "ipython",
    "version": 3
   },
   "file_extension": ".py",
   "mimetype": "text/x-python",
   "name": "python",
   "nbconvert_exporter": "python",
   "pygments_lexer": "ipython3",
   "version": "3.6.6"
  }
 },
 "nbformat": 4,
 "nbformat_minor": 2
}
