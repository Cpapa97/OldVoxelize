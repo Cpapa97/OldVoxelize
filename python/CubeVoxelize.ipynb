{
 "cells": [
  {
   "cell_type": "code",
   "execution_count": 1,
   "metadata": {},
   "outputs": [],
   "source": [
    "import datajoint as dj\n",
    "import pandas as pd\n",
    "import numpy as np\n",
    "\n",
    "import matplotlib.pyplot as plt\n",
    "import ipyvolume.pylab as p3"
   ]
  },
  {
   "cell_type": "code",
   "execution_count": 2,
   "metadata": {},
   "outputs": [
    {
     "name": "stdout",
     "output_type": "stream",
     "text": [
      "Connecting cpapadop@10.28.0.34:3306\n"
     ]
    }
   ],
   "source": [
    "ta3p100 = dj.create_virtual_module('ta3p100', 'microns_ta3p100')"
   ]
  },
  {
   "cell_type": "code",
   "execution_count": 3,
   "metadata": {},
   "outputs": [],
   "source": [
    "fetched_mesh = (ta3p100.Mesh & ta3p100.CurrentSegmentation & 'segment_id=648518346341351503').fetch1()"
   ]
  },
  {
   "cell_type": "code",
   "execution_count": 4,
   "metadata": {},
   "outputs": [],
   "source": [
    "fetched_mesh = ta3p100.Decimation35.fetch(limit=1, as_dict=True)[0]"
   ]
  },
  {
   "cell_type": "code",
   "execution_count": 97,
   "metadata": {},
   "outputs": [],
   "source": [
    "class Voxel:\n",
    "    def __init__(self, vertices):\n",
    "        self._vertices = vertices\n",
    "        \n",
    "    @property\n",
    "    def vertices(self):\n",
    "        return self._vertices\n",
    "        \n",
    "    @staticmethod\n",
    "    def get_bbox(vertices):\n",
    "        return np.array([(np.min(axis), np.max(axis)) for axis in vertices.T])\n",
    "        \n",
    "    @property\n",
    "    def bbox(self):\n",
    "        return self.get_bbox(self.vertices)\n",
    "    \n",
    "    @property\n",
    "    def structure(self):\n",
    "        return self._structure\n",
    "        \n",
    "    @structure.setter\n",
    "    def structure(self, structure):\n",
    "        self._structure = np.zeros((), np.uint8) # I really, really, just store each voxel as an offset value vector.\n",
    "        \n",
    "#     @structure.indexer\n",
    "#     def structure(self, index_tuple):\n",
    "#         return self.structure[index_tuple] # self._structure[index_tuple]\n",
    "\n",
    "#     def plot_voxels(self):\n",
    "#         # Scale and transpose\n",
    "#         center = [4, 4, 4];\n",
    "#         cubesize = 2;\n",
    "#         # Vertices for Line Cube. Order matters\n",
    "#         X = [0, 0, 1, 1, 0, 0, 1, 1, 1, 1, 1, 1, 0, 0, 0, 0, 0]\n",
    "#         Y = [0, 1, 1, 0, 0, 0, 0, 0, 0, 1, 1, 1, 1, 1, 1, 0, 0]\n",
    "#         Z = [0, 0, 0, 0, 0, 1, 1, 0, 1, 1, 0, 1, 1, 0, 1, 1, 0]\n",
    "#         # Example two cube matrix. Unit cube and one scaled/translated cube\n",
    "#         X1 = [X X*cubesize+center(1)];\n",
    "#         Y1 = [Y Y*cubesize+center(2)];\n",
    "#         Z1 = [Z Z*cubesize+center(3)];\n",
    "#         # Single plot command for all 'cube lines'\n",
    "#         plot3(X1,Y1,Z1);\n",
    "        \n",
    "    def cube_voxelize(self, side_length):\n",
    "        bbox = self.bbox\n",
    "        # Get the number of voxels to be used to create cubes (allowing for pushing past the boundaries).\n",
    "        num_voxels = np.ceil((np.abs(np.subtract(*bbox.T) / side_length))).astype(int)\n",
    "        \n",
    "        # Create the cube voxel grid split structure. Could also sort the vertices according to the grid at this point?\n",
    "        start_coord = bbox.T[0]\n",
    "        cube_friendly_bbox = np.vstack((start_coord, start_coord + (num_voxels * side_length))).T\n",
    "        x_edges, y_edges, z_edges = [np.arange(minimum, maximum, side_length) for minimum, maximum in cube_friendly_bbox]\n",
    "        \n",
    "        # This still might be slower.\n",
    "        a = mesh.vertices.copy()\n",
    "        a = a[a[:,2].argsort()] # First sort doesn't need to be stable.\n",
    "        a = a[a[:,1].argsort(kind='mergesort')]\n",
    "        a = a[a[:,0].argsort(kind='mergesort')]\n",
    "        sorted_verts = a\n",
    "        \n",
    "        # Tag the voxels that have vertices. Keep track of the structure offset indices. But should I also keep track of voxel ids? Probably not if\n",
    "        # I do it where each voxel just holds the offset.\n",
    "        \n",
    "        \n",
    "        # Could I tag vertices for each voxel? How expensive would that be, but it would be very easy and efficient querying and manipulating afterwords.\n",
    "        \n",
    "        # Query number of vertices in large chunks and then split down into the medium then 1-1 voxel resolution.\n",
    "        \n",
    "        # Will also need to have a voxel-level \"bbox\" where it re-corners (moves it to the topmost-leftmost corner, or some other corner) the starting\n",
    "        # voxel structure centroid (or corner coordinate, this decision affects from where the offset is calculated) to the location that agrees with the\n",
    "        # existing offset distance settings and then it should be able to easily add/subtract the offset change from the offset indices stored in the voxel\n",
    "        # offset vectors."
   ]
  },
  {
   "cell_type": "code",
   "execution_count": 91,
   "metadata": {},
   "outputs": [],
   "source": [
    "mesh = Voxel(fetched_mesh['vertices'])"
   ]
  },
  {
   "cell_type": "code",
   "execution_count": 92,
   "metadata": {},
   "outputs": [],
   "source": [
    "bboxes = mesh.cube_voxelize(10000)"
   ]
  },
  {
   "cell_type": "code",
   "execution_count": 93,
   "metadata": {},
   "outputs": [
    {
     "data": {
      "text/plain": [
       "262"
      ]
     },
     "execution_count": 93,
     "metadata": {},
     "output_type": "execute_result"
    }
   ],
   "source": [
    "len(bboxes)"
   ]
  },
  {
   "cell_type": "code",
   "execution_count": null,
   "metadata": {},
   "outputs": [],
   "source": []
  },
  {
   "cell_type": "code",
   "execution_count": null,
   "metadata": {},
   "outputs": [],
   "source": [
    "p3.figure(width=width, height=height)\n",
    "p3.plot_trisurf(*self.vertices.T/1000, self.triangles, **kwargs)\n",
    "p3.scatter(*.T/1000, color='blue')"
   ]
  },
  {
   "cell_type": "code",
   "execution_count": null,
   "metadata": {},
   "outputs": [],
   "source": []
  },
  {
   "cell_type": "code",
   "execution_count": 135,
   "metadata": {},
   "outputs": [
    {
     "data": {
      "text/plain": [
       "array([[3, 7, 4],\n",
       "       [5, 3, 1],\n",
       "       [0, 0, 0],\n",
       "       [0, 0, 0],\n",
       "       [0, 0, 0]], dtype=int32)"
      ]
     },
     "execution_count": 135,
     "metadata": {},
     "output_type": "execute_result"
    }
   ],
   "source": [
    "starting_voxel_count = 300\n",
    "structure = np.zeros((5, 3), np.int32)\n",
    "structure[0] = [3, 7, 4]\n",
    "structure[1] = [5, 3, 1]\n",
    "\n",
    "structure"
   ]
  },
  {
   "cell_type": "code",
   "execution_count": 147,
   "metadata": {},
   "outputs": [
    {
     "name": "stdout",
     "output_type": "stream",
     "text": [
      "[[213431.765625   222495.484375    43725.24609375]\n",
      " [213457.109375   222541.9375      43622.21875   ]\n",
      " [213474.0625     222514.5625      43789.96875   ]\n",
      " ...\n",
      " [432938.5625     309118.75        72721.5       ]\n",
      " [432962.78125    308823.75        72491.90625   ]\n",
      " [432965.3125     309138.3125      72582.65625   ]]\n",
      "CPU times: user 153 ms, sys: 4.02 ms, total: 157 ms\n",
      "Wall time: 155 ms\n"
     ]
    }
   ],
   "source": [
    "%%time\n",
    "\n",
    "a = mesh.vertices.copy()\n",
    "\n",
    "a = a[a[:,2].argsort()] # First sort doesn't need to be stable.\n",
    "a = a[a[:,1].argsort(kind='mergesort')]\n",
    "a = a[a[:,0].argsort(kind='mergesort')]\n",
    "\n",
    "print(a)"
   ]
  },
  {
   "cell_type": "code",
   "execution_count": null,
   "metadata": {},
   "outputs": [],
   "source": []
  }
 ],
 "metadata": {
  "kernelspec": {
   "display_name": "Python 3",
   "language": "python",
   "name": "python3"
  },
  "language_info": {
   "codemirror_mode": {
    "name": "ipython",
    "version": 3
   },
   "file_extension": ".py",
   "mimetype": "text/x-python",
   "name": "python",
   "nbconvert_exporter": "python",
   "pygments_lexer": "ipython3",
   "version": "3.6.6"
  }
 },
 "nbformat": 4,
 "nbformat_minor": 2
}
