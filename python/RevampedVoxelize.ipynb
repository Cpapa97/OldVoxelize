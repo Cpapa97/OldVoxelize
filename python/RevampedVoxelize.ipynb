{
 "cells": [
  {
   "cell_type": "code",
   "execution_count": 1,
   "metadata": {},
   "outputs": [],
   "source": [
    "import numpy as np"
   ]
  },
  {
   "cell_type": "code",
   "execution_count": null,
   "metadata": {},
   "outputs": [],
   "source": []
  },
  {
   "cell_type": "code",
   "execution_count": 107,
   "metadata": {},
   "outputs": [
    {
     "name": "stdout",
     "output_type": "stream",
     "text": [
      "Connecting cpapadop@10.28.0.34:3306\n"
     ]
    }
   ],
   "source": [
    "import datajoint as dj\n",
    "from tqdm import tqdm\n",
    "import pandas as pd\n",
    "import time\n",
    "\n",
    "import matplotlib.pyplot as plt\n",
    "import ipyvolume.pylab as p3\n",
    "\n",
    "ta3p100 = dj.create_virtual_module('ta3p100', 'microns_ta3p100')\n",
    "\n",
    "fetched_mesh = (ta3p100.Mesh & ta3p100.CurrentSegmentation & 'segment_id=648518346341366885').fetch1()\n",
    "# fetched_mesh = (ta3p100.Decimation35 & ta3p100.CurrentSegmentation & 'segment_id=648518346341366885').fetch1()"
   ]
  },
  {
   "cell_type": "code",
   "execution_count": 216,
   "metadata": {},
   "outputs": [],
   "source": [
    "class Voxels:\n",
    "    def __init__(self, origin, side_length, offsets, per_voxel_vertices=None):\n",
    "        self.origin = origin\n",
    "        self.side_length = side_length\n",
    "        self.offsets = offsets\n",
    "        self.per_voxel_vertices = per_voxel_vertices\n",
    "    \n",
    "    @property\n",
    "    def bboxes(self):\n",
    "        voxel_min = self.origin + (self.offsets * self.side_length)\n",
    "        voxel_max = voxel_min + self.side_length\n",
    "        return np.stack([voxel_min, voxel_max], axis=2)\n",
    "    \n",
    "    @property\n",
    "    def centroids(self):\n",
    "        return self.bboxes.mean(axis=0)\n",
    "    \n",
    "    @property\n",
    "    def volume(self):\n",
    "        \"\"\"\n",
    "        Returns the estimation of volume based on the voxelization. Units are the same as the vertex input.\n",
    "        \"\"\"\n",
    "        return (self.side_length**3) * len(self)\n",
    "    \n",
    "    @property\n",
    "    def _rectangular_idx(self):\n",
    "        X = [0, 0, 1, 1, 0, 0, 1, 1, 1, 1, 1, 1, 0, 0, 0, 0, 0]\n",
    "        Y = [0, 1, 1, 0, 0, 0, 0, 0, 0, 1, 1, 1, 1, 1, 1, 0, 0]\n",
    "        Z = [0, 0, 0, 0, 0, 1, 1, 0, 1, 1, 0, 1, 1, 0, 1, 1, 0]\n",
    "        return np.vstack((X, Y, Z))\n",
    "    \n",
    "    @property\n",
    "    def drawable_bboxes(self):\n",
    "        return self.offset_to_bboxes[:, np.arange(3), self._rectangular_idx.T].transpose(0, 2, 1)\n",
    "    \n",
    "    def plot(self, width=800, height=600, voxel_count_offset=0, voxel_limit=None, use_centroids_instead=False, **kwargs):\n",
    "        \"\"\"\n",
    "        :param **kwargs: Is used in ipyvolume.pylab.scatter() or ipyvolume.pylab.plot() depending on whether use_centroids_instead\n",
    "        is set to true or not.\n",
    "        \"\"\"\n",
    "#         p3.figure(width=width, height=height)\n",
    "        voxels_length = len(self)\n",
    "        if voxel_count_offset >= voxels_length:\n",
    "            raise ValueError(\"voxel_count_offset is greater than the number of voxels!\")\n",
    "        else:\n",
    "            if voxel_limit is None:\n",
    "                n_voxels_to_plot = len(self)\n",
    "            else:\n",
    "                n_voxels_to_plot = voxel_count_offset + voxel_limit\n",
    "                if n_voxels_to_plot > voxels_length:\n",
    "                    n_voxels_to_plot = len(self)\n",
    "\n",
    "        if use_centroids_instead: # I should be careful about forcing the voxels to be divided by 1000 if this is a generalized package\n",
    "            p3.scatter(self.centroids[voxel_count_offset:n_voxels_to_plot].T/1000, **kwargs)\n",
    "        else:\n",
    "            bboxes = self.bboxes[voxel_count_offset:n_voxels_to_plot]\n",
    "            for bbox in bboxes:\n",
    "                p3.plot(*bbox/1000, **kwargs)\n",
    "        p3.squarelim()\n",
    "        p3.show()\n",
    "    \n",
    "    def search_by_offset(self, key):\n",
    "        return np.where((self.offset_vectors==key).all(axis=1))[0]\n",
    "    \n",
    "    def to_dict(self, include_origin=True, include_side_length=True, include_offsets=True, include_per_voxel_vertices=False):\n",
    "        record = dict()\n",
    "        if include_origin:\n",
    "            record.update(dict(origin=self.origin))\n",
    "        if include_side_length:\n",
    "            record.update(dict(side_length=self.side_length))\n",
    "        if include_offsets:\n",
    "            record.update(dict(offsets=self.offsets))\n",
    "        if include_per_voxel_vertices:\n",
    "            record.update(dict(per_voxel_vertices=self.per_voxel_vertices))\n",
    "        return record\n",
    "    \n",
    "    def __len__(self):\n",
    "        return len(self.offsets)"
   ]
  },
  {
   "cell_type": "code",
   "execution_count": 217,
   "metadata": {},
   "outputs": [],
   "source": [
    "class VoxelMesh:\n",
    "    def __init__(self, vertices, triangles=None, voxels=None, segment_id=None):\n",
    "        self.vertices = vertices\n",
    "        self.triangles = triangles\n",
    "        if voxels is not None:\n",
    "            self.voxels = voxels\n",
    "        self.segment_id = segment_id\n",
    "        # Won't allow this for now, too many problems it can cause.\n",
    "        #self.are_vertices_sorted = are_vertices_sorted\n",
    "    \n",
    "    @property\n",
    "    def bbox(self):\n",
    "        return np.array([(np.min(axis), np.max(axis)) for axis in self.vertices.T])\n",
    "    \n",
    "    @property\n",
    "    def sorted_vertices(self):\n",
    "        \"\"\"\n",
    "        Not actually used for any part of the voxelization, too slow. Here for potential usage\n",
    "        \"\"\"\n",
    "        a = self.vertices\n",
    "#         if not self.are_vertices_sorted:\n",
    "        # This still might be slower.\n",
    "        a = a[a[:,2].argsort()] # First sort doesn't need to be stable.\n",
    "        a = a[a[:,1].argsort(kind='mergesort')]\n",
    "        a = a[a[:,0].argsort(kind='mergesort')]\n",
    "        return a\n",
    "    \n",
    "    @property\n",
    "    def voxels(self):\n",
    "        return self._voxels\n",
    "    \n",
    "    @voxels.setter\n",
    "    def voxels(self, voxels):\n",
    "        if isinstance(voxels, Voxels):\n",
    "            self._voxels = voxels\n",
    "        else:\n",
    "            raise TypeError(\"The voxels property only accepts a Voxels object.\")\n",
    "\n",
    "    def plot(self, plot_mesh=True, width=800, height=600, voxel_count_offset=0, voxel_limit=None, use_centroids_instead=False, mesh_color='red', **kwargs):\n",
    "        \"\"\"\n",
    "        :param **kwargs: Is used in ipyvolume.pylab.scatter() or ipyvolume.pylab.plot() depending on whether use_centroids_instead\n",
    "        is set to true or not.\n",
    "        \"\"\"\n",
    "        if plot_mesh:\n",
    "            p3.figure(width=width, height=height)\n",
    "            p3.plot_trisurf(*self.vertices.T/1000, self.triangles, color=mesh_color)\n",
    "            self.voxels.plot(width=width, height=height,\n",
    "                             voxel_count_offset=voxel_count_offset,\n",
    "                             voxel_limit=voxel_limit,\n",
    "                             use_centroids_instead=use_centroids_instead,\n",
    "                             **kwargs)\n",
    "        else:\n",
    "            self.voxels.plot(width=width, height=height,\n",
    "                             voxel_count_offset=voxel_count_offset,\n",
    "                             voxel_limit=voxel_limit,\n",
    "                             use_centroids_instead=use_centroids_instead,\n",
    "                             **kwargs)\n",
    "    \n",
    "    def voxelize(self, side_length):\n",
    "        def apply_split(vertices, edges, sort_axis):\n",
    "            \"\"\"\n",
    "            :param vertices: The vertices to sort through and split.\n",
    "            :param edges: The edges along which to split the array.\n",
    "            :param sort_axis: The axis to sort and split the array with.\n",
    "            \"\"\"\n",
    "            sorted_verts = vertices[vertices[:,sort_axis].argsort()]\n",
    "            splitter = sorted_verts[:,sort_axis].searchsorted(edges)\n",
    "            split = np.array(np.split(sorted_verts, splitter)[1:])\n",
    "            offset_idx = [i for i, block in enumerate(split) if len(block) > 0]\n",
    "            # This commented out portion is actually slower, and doesn't seem to work if the voxel size is too small.\n",
    "            # Should come back to this idea though later.\n",
    "            #offset_idx = np.unique(edges[1:].searchsorted(sorted_verts).T[sort_axis])\n",
    "            return np.array((offset_idx, split[offset_idx]))\n",
    "        \n",
    "        bbox = self.bbox\n",
    "        # Get the number of voxels to be used to create cubes (allowing for pushing past the boundaries).\n",
    "        num_voxels = np.ceil((np.abs(np.subtract(*bbox.T) / side_length))).astype(int)\n",
    "        \n",
    "        # Create the cube voxel grid split structure.\n",
    "        start_coord = bbox.T[0]\n",
    "        cube_friendly_bbox = np.vstack((start_coord, start_coord + (num_voxels * side_length + 1))).T\n",
    "        x_edges, y_edges, z_edges = [np.arange(minimum, maximum, side_length) for minimum, maximum in cube_friendly_bbox]\n",
    "        \n",
    "        offset_vectors = list()\n",
    "        voxel_vertices = dict()\n",
    "                \n",
    "        # Need to do the initial sort/split on the x_axis\n",
    "        x_split = np.array(apply_split(self.vertices, x_edges, 0)).T\n",
    "        for x_id, x_block in x_split:\n",
    "            \n",
    "            # Then sort/split through the y_axis\n",
    "            y_split = np.array(apply_split(x_block, y_edges, 1)).T\n",
    "            for y_id, y_block in y_split:\n",
    "                \n",
    "                # Finally sort/split the z_axis\n",
    "                z_split = np.array(apply_split(y_block, z_edges, 2)).T\n",
    "                for z_id, z_block in z_split:\n",
    "                    \n",
    "                    # The offset vectors that contain vertices at all are present here\n",
    "                    key = (x_id, y_id, z_id)\n",
    "                    offset_vectors.append(key)\n",
    "                    voxel_vertices[key] = z_block\n",
    "\n",
    "        offset_vectors = np.array(offset_vectors)\n",
    "        self.voxels = Voxels(self.bbox[:,0], side_length, offset_vectors, voxel_vertices)"
   ]
  },
  {
   "cell_type": "code",
   "execution_count": 218,
   "metadata": {},
   "outputs": [],
   "source": [
    "mesh = VoxelMesh(fetched_mesh['vertices'])"
   ]
  },
  {
   "cell_type": "code",
   "execution_count": 219,
   "metadata": {},
   "outputs": [
    {
     "name": "stdout",
     "output_type": "stream",
     "text": [
      "265\n",
      "CPU times: user 212 ms, sys: 100 µs, total: 212 ms\n",
      "Wall time: 210 ms\n"
     ]
    }
   ],
   "source": [
    "%%time\n",
    "\n",
    "mesh.voxelize(10000)\n",
    "print(len(mesh.voxels))"
   ]
  },
  {
   "cell_type": "code",
   "execution_count": 220,
   "metadata": {},
   "outputs": [
    {
     "data": {
      "application/vnd.jupyter.widget-view+json": {
       "model_id": "f06d0be346fe4a0897e429c685f6aecb",
       "version_major": 2,
       "version_minor": 0
      },
      "text/plain": [
       "VBox(children=(Figure(camera=PerspectiveCamera(fov=46.0, position=(0.0, 0.0, 2.0), quaternion=(0.0, 0.0, 0.0, …"
      ]
     },
     "metadata": {},
     "output_type": "display_data"
    }
   ],
   "source": [
    "mesh.plot(color='blue')"
   ]
  },
  {
   "cell_type": "code",
   "execution_count": 215,
   "metadata": {},
   "outputs": [
    {
     "data": {
      "application/vnd.jupyter.widget-view+json": {
       "model_id": "fd6480dc44c24ed18619d2c252aff089",
       "version_major": 2,
       "version_minor": 0
      },
      "text/plain": [
       "VBox(children=(Figure(camera=PerspectiveCamera(fov=46.0, position=(0.0, 0.0, 2.0), quaternion=(0.0, 0.0, 0.0, …"
      ]
     },
     "metadata": {},
     "output_type": "display_data"
    }
   ],
   "source": [
    "mesh.voxels.plot(color='blue')"
   ]
  },
  {
   "cell_type": "code",
   "execution_count": null,
   "metadata": {},
   "outputs": [],
   "source": []
  },
  {
   "cell_type": "code",
   "execution_count": null,
   "metadata": {},
   "outputs": [],
   "source": []
  },
  {
   "cell_type": "code",
   "execution_count": null,
   "metadata": {},
   "outputs": [],
   "source": [
    "class VoxelStruct:\n",
    "    def __init__(self, vertices, triangles=None, voxels=None, segment_id=None):\n",
    "        self.mesh = Mesh(vertices, triangles, segment_id)\n",
    "    \n",
    "    \n",
    "        \n",
    "    class Mesh:\n",
    "        \n",
    "        \n",
    "    "
   ]
  },
  {
   "cell_type": "code",
   "execution_count": null,
   "metadata": {},
   "outputs": [],
   "source": []
  },
  {
   "cell_type": "code",
   "execution_count": 106,
   "metadata": {},
   "outputs": [
    {
     "ename": "TypeError",
     "evalue": "__init__() missing 1 required positional argument: 'offset_vectors'",
     "output_type": "error",
     "traceback": [
      "\u001b[0;31m---------------------------------------------------------------------------\u001b[0m",
      "\u001b[0;31mTypeError\u001b[0m                                 Traceback (most recent call last)",
      "\u001b[0;32m<ipython-input-106-3a66c933a44b>\u001b[0m in \u001b[0;36m<module>\u001b[0;34m\u001b[0m\n\u001b[0;32m----> 1\u001b[0;31m \u001b[0mVoxelStruct\u001b[0m\u001b[0;34m(\u001b[0m\u001b[0;34m(\u001b[0m\u001b[0;36m0\u001b[0m\u001b[0;34m,\u001b[0m\u001b[0;36m0\u001b[0m\u001b[0;34m,\u001b[0m\u001b[0;36m0\u001b[0m\u001b[0;34m)\u001b[0m\u001b[0;34m,\u001b[0m \u001b[0;36m10000\u001b[0m\u001b[0;34m)\u001b[0m\u001b[0;34m\u001b[0m\u001b[0m\n\u001b[0m",
      "\u001b[0;31mTypeError\u001b[0m: __init__() missing 1 required positional argument: 'offset_vectors'"
     ]
    }
   ],
   "source": [
    "VoxelStruct((0,0,0), 10000)"
   ]
  },
  {
   "cell_type": "code",
   "execution_count": null,
   "metadata": {},
   "outputs": [],
   "source": []
  },
  {
   "cell_type": "code",
   "execution_count": 105,
   "metadata": {},
   "outputs": [],
   "source": [
    "class VoxelStruct:\n",
    "    def __init__(self, origin, side_length, offset_vectors, mesh_vertices=None, per_voxel_vertices=None):\n",
    "        \"\"\"\n",
    "        :param origin: The starting location of which the voxels will be offset from.\n",
    "        :param side_length: The length of a side of a voxel (they are cubes).\n",
    "        :param offset_vectors: The structure that stores the locations of the voxels as offset integers from the origin (using the side length as the increment).\n",
    "        \"\"\"\n",
    "        self.origin = origin\n",
    "        self.side_length = side_length\n",
    "#             if offset_vectors is not None:\n",
    "        self.offset_vectors = offset_vectors\n",
    "        if mesh_vertices is not None:\n",
    "            self.mesh_vertices = mesh_vertices\n",
    "        if voxel_vertices is not None:\n",
    "            self.voxel_vertices = voxel_vertices\n",
    "\n",
    "    @property\n",
    "    def origin(self):\n",
    "        return np.array((self._x, self._y, self._z))\n",
    "\n",
    "    @origin.setter\n",
    "    def origin(self, coordinate):\n",
    "        self._x, self._y, self._z = coordinate\n",
    "\n",
    "    @property\n",
    "    def side_length(self):\n",
    "        return self._side_length\n",
    "\n",
    "    @side_length.setter\n",
    "    def side_length(self, side_length):\n",
    "        self._side_length = side_length\n",
    "\n",
    "    @property\n",
    "    def offset_vectors(self):\n",
    "        return self._offset_vectors\n",
    "\n",
    "    @offset_vectors.setter\n",
    "    def offset_vectors(self, offset_vectors):\n",
    "        if offset_vectors.shape == (len(offset_vectors), 3):\n",
    "            self._offset_vectors = offset_vectors\n",
    "        else:\n",
    "            raise TypeError(\"Array shape is incorrect, should be equivalent to (-1, 3).\")\n",
    "\n",
    "    @property\n",
    "    def volume(self):\n",
    "        \"\"\"\n",
    "        Returns the estimation of volume based on the voxelization. Units are the same as the vertex input.\n",
    "        \"\"\"\n",
    "        return self.side_length**3 * len(self.offset_vectors)\n",
    "\n",
    "    @property\n",
    "    def offset_to_bboxes(self):\n",
    "        voxel_min = self.origin + (self.offset_vectors * self.side_length)\n",
    "        voxel_max = voxel_min + self.side_length\n",
    "        return np.stack([voxel_min, voxel_max], axis=2)\n",
    "\n",
    "    @property\n",
    "    def voxel_bboxes_to_drawable(self):\n",
    "        return self.offset_to_bboxes[:, np.arange(3), self._rectangular_idx.T].transpose(0, 2, 1)\n",
    "\n",
    "    @property\n",
    "    def _rectangular_idx(self):\n",
    "        X = [0, 0, 1, 1, 0, 0, 1, 1, 1, 1, 1, 1, 0, 0, 0, 0, 0]\n",
    "        Y = [0, 1, 1, 0, 0, 0, 0, 0, 0, 1, 1, 1, 1, 1, 1, 0, 0]\n",
    "        Z = [0, 0, 0, 0, 0, 1, 1, 0, 1, 1, 0, 1, 1, 0, 1, 1, 0]\n",
    "        return np.vstack((X, Y, Z))\n",
    "\n",
    "    def search_by_offset_vector(self, key):\n",
    "        return np.where((self.offset_vectors==key).all(axis=1))[0]\n",
    "\n",
    "    def __len__(self):\n",
    "        return len(self.offset_vectors)"
   ]
  },
  {
   "cell_type": "code",
   "execution_count": 2,
   "metadata": {},
   "outputs": [],
   "source": [
    "# Can have a voxel plot mechanism in VoxelStruct and in Voxelizer or a different class?"
   ]
  },
  {
   "cell_type": "code",
   "execution_count": 5,
   "metadata": {},
   "outputs": [],
   "source": [
    "class Voxelizer:\n",
    "    def __init__(self, default_side_length=None):\n",
    "        self.default_side_length = default_side_length\n",
    "        \n",
    "    @property\n",
    "    def default_side_length(self):\n",
    "        return self._default_side_length\n",
    "    \n",
    "    @default_side_length.setter\n",
    "    def default_side_length(self, default_side_length):\n",
    "        if default_side_length is None:\n",
    "            self._default_side_length = None\n",
    "        elif default_side_length > 0:\n",
    "            self._default_side_length = default_side_length\n",
    "        else:\n",
    "            raise ValueError(\"default_side_length must be a number greater than 0.\")\n",
    "    \n",
    "    @staticmethod\n",
    "    def get_bbox(vertices):\n",
    "        return np.array([(np.min(axis), np.max(axis)) for axis in vertices.T])\n",
    "        \n",
    "    # Could have a more configurable plotting function. Like you give the argument ['mesh', 'offset_vectors', 'mesh_bbox', etc.]\n",
    "    def plot_voxels(self, voxel_count_offset=0, voxel_limit=None, use_centroids_instead=False, width=800, height=600):\n",
    "        p3.figure(width=width, height=height)\n",
    "        p3.plot_trisurf(*fetched_mesh['vertices'].T/1000, triangles=fetched_mesh['triangles'])#[:10000])\n",
    "        if use_centroids_instead:\n",
    "            centroids = mesh.structure_to_bboxes.mean(axis=2)\n",
    "            if voxel_limit is not None:\n",
    "                centroids = centroids[:1000]\n",
    "            p3.scatter(*centroids.T/1000, color='blue', marker='sphere', size=0.25)\n",
    "        else:\n",
    "            # Make it so voxel_limit can be larger \n",
    "            bboxes = self.voxel_bboxes_to_drawable\n",
    "            voxel_count = len(bboxes)\n",
    "            if voxel_count_offset >= voxel_count:\n",
    "                voxel_count_offset = voxel_count - 1\n",
    "            if voxel_limit is not None:\n",
    "                if voxel_limit < (voxel_count + voxel_count_offset):\n",
    "                    bboxes = bboxes[voxel_count_offset:voxel_count_offset+voxel_limit]\n",
    "                else:\n",
    "                    bboxes = bboxes[voxel_count_offset:]\n",
    "            for bbox in self.voxel_bboxes_to_drawable:\n",
    "                p3.plot(*bbox/1000, color='blue')\n",
    "        # Can make xyzlim stuck to the bboxes that are actually plotted.\n",
    "        p3.squarelim()\n",
    "        p3.show()\n",
    "    \n",
    "    def apply_split(self, vertices, edges, sort_axis):\n",
    "        \"\"\"\n",
    "        :param vertices: The vertices to sort through and split.\n",
    "        :param edges: The edges along which to split the array.\n",
    "        :param sort_axis: The axis to sort and split the array with.\n",
    "        \"\"\"    \n",
    "        sorted_verts = vertices[vertices[:,sort_axis].argsort()]\n",
    "        splitter = sorted_verts[:,sort_axis].searchsorted(edges)\n",
    "        split = np.array(np.split(sorted_verts, splitter)[1:])\n",
    "        offset_idx = [i for i, block in enumerate(split) if len(block) > 0]\n",
    "        # This commented out portion is actually slower, and doesn't seem to work if the voxel size is too small.\n",
    "        # Should come back to this idea though later.\n",
    "#         offset_idx = np.unique(edges[1:].searchsorted(sorted_verts).T[sort_axis])\n",
    "        return np.array((offset_idx, split[offset_idx]))\n",
    "                \n",
    "    # Going to look to redo the CubeVoxelize method for speed and clarity.\n",
    "    def voxelize(self, vertices, side_length=None): # Probably need to have the side_length only be set once. Maybe just have the Voxelization class do it all in the intialization.\n",
    "        if side_length is None:\n",
    "            side_length = self.default_side_length\n",
    "        bbox = self.bbox\n",
    "        # Get the number of voxels to be used to create cubes (allowing for pushing past the boundaries).\n",
    "        num_voxels = np.ceil((np.abs(np.subtract(*bbox.T) / side_length))).astype(int)\n",
    "        \n",
    "        # Create the cube voxel grid split structure.\n",
    "        start_coord = bbox.T[0]\n",
    "        cube_friendly_bbox = np.vstack((start_coord, start_coord + (num_voxels * side_length + 1))).T\n",
    "        x_edges, y_edges, z_edges = [np.arange(minimum, maximum, side_length) for minimum, maximum in cube_friendly_bbox]\n",
    "        \n",
    "        offset_vectors = list()\n",
    "        voxel_vertices = dict()\n",
    "                \n",
    "        # Need to do the initial sort/split on the x_axis\n",
    "        x_split = np.array(self.apply_split(vertices, x_edges, 0)).T\n",
    "        for x_id, x_block in x_split:\n",
    "            \n",
    "            # Then sort/split through the y_axis\n",
    "            y_split = np.array(self.apply_split(x_block, y_edges, 1)).T\n",
    "            for y_id, y_block in y_split:\n",
    "                \n",
    "                # Finally sort/split the z_axis\n",
    "                z_split = np.array(self.apply_split(y_block, z_edges, 2)).T\n",
    "                for z_id, z_block in z_split:\n",
    "                    \n",
    "                    # The offset vectors that contain vertices at all are present here\n",
    "                    key = (x_id, y_id, z_id)\n",
    "                    offset_vectors.append(key)\n",
    "                    voxel_vertices[key] = z_block\n",
    "\n",
    "        offset_vectors = np.array(offset_vectors)\n",
    "        self.voxels = self.VoxelStruct(self.bbox[:,0], side_length, offset_vectors, mesh_vertices=vertices, per_voxel_vertices=voxel_vertices)\n",
    "        \n",
    "        return offset_vectors, voxel_vertices"
   ]
  },
  {
   "cell_type": "code",
   "execution_count": null,
   "metadata": {},
   "outputs": [],
   "source": []
  },
  {
   "cell_type": "code",
   "execution_count": 94,
   "metadata": {},
   "outputs": [
    {
     "data": {
      "text/plain": [
       "array([[20, 19,  0],\n",
       "       [18, 19, 18],\n",
       "       [24, 19, 17],\n",
       "       [ 3,  6, 18],\n",
       "       [ 1,  3, 16]])"
      ]
     },
     "execution_count": 94,
     "metadata": {},
     "output_type": "execute_result"
    }
   ],
   "source": [
    "test = (np.random.rand(5, 3)*25).astype(int)\n",
    "test"
   ]
  },
  {
   "cell_type": "code",
   "execution_count": 95,
   "metadata": {},
   "outputs": [],
   "source": [
    "graph_edges = list()"
   ]
  },
  {
   "cell_type": "code",
   "execution_count": 104,
   "metadata": {},
   "outputs": [
    {
     "name": "stdout",
     "output_type": "stream",
     "text": [
      "CPU times: user 159 µs, sys: 8 µs, total: 167 µs\n",
      "Wall time: 106 µs\n"
     ]
    }
   ],
   "source": [
    "%%time\n",
    "test2 = test[test[:,2].argsort()]\n",
    "test2 = test2[test2[:,1].argsort(kind='mergesort')]\n",
    "test2 = test2[test2[:,0].argsort(kind='mergesort')]"
   ]
  },
  {
   "cell_type": "code",
   "execution_count": null,
   "metadata": {},
   "outputs": [],
   "source": []
  }
 ],
 "metadata": {
  "kernelspec": {
   "display_name": "Python 3",
   "language": "python",
   "name": "python3"
  },
  "language_info": {
   "codemirror_mode": {
    "name": "ipython",
    "version": 3
   },
   "file_extension": ".py",
   "mimetype": "text/x-python",
   "name": "python",
   "nbconvert_exporter": "python",
   "pygments_lexer": "ipython3",
   "version": "3.6.6"
  }
 },
 "nbformat": 4,
 "nbformat_minor": 2
}
